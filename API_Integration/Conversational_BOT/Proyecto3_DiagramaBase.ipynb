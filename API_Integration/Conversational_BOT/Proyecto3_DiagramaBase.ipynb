{
  "nbformat": 4,
  "nbformat_minor": 0,
  "metadata": {
    "colab": {
      "provenance": [],
      "authorship_tag": "ABX9TyOLqOfqQAIEnSQaD93Xowgg",
      "include_colab_link": true
    },
    "kernelspec": {
      "name": "python3",
      "display_name": "Python 3"
    },
    "language_info": {
      "name": "python"
    }
  },
  "cells": [
    {
      "cell_type": "markdown",
      "metadata": {
        "id": "view-in-github",
        "colab_type": "text"
      },
      "source": [
        "<a href=\"https://colab.research.google.com/github/DeisyData/Portafolio/blob/main/API_Integration/Conversational_BOT/Proyecto3_DiagramaBase.ipynb\" target=\"_parent\"><img src=\"https://colab.research.google.com/assets/colab-badge.svg\" alt=\"Open In Colab\"/></a>"
      ]
    },
    {
      "cell_type": "code",
      "execution_count": null,
      "metadata": {
        "id": "gF-4mME1lXl8"
      },
      "outputs": [],
      "source": [
        "!pip install diagrams"
      ]
    },
    {
      "cell_type": "markdown",
      "source": [
        "## Paso 1. Lista de los elementos\n",
        "\n",
        "\n",
        "\n",
        "Archivos\n",
        "\n",
        "* input: Datos 'heart_attack_risk_dataset.csv'\n",
        "* output: modelo entrenado 'random_forest_model.pkl'\n",
        "\n",
        "Aplicaciones - API - Entidades - Storage\n",
        "\n",
        "* colab (python) : 'Flujo_1_modelo_rf_pkl.ipynb'\n",
        "\n",
        "## Paso 2.  Definir los flujos de trabajo\n",
        "\n",
        "\n",
        "Ejemplo:\n",
        "* datos >> colab (python)  >> modelo\n",
        "* modelo >> colab (python) >> telegram"
      ],
      "metadata": {
        "id": "SIyAJKK3potu"
      }
    },
    {
      "cell_type": "markdown",
      "source": [
        "[Para hacer los clusters ](https://diagrams.mingrammer.com/)\n",
        "\n",
        "https://github.com/mingrammer/diagrams?tab=readme-ov-file"
      ],
      "metadata": {
        "id": "dYcNFe-s_NOO"
      }
    },
    {
      "cell_type": "code",
      "source": [
        "from diagrams import Diagram, Cluster, Edge\n",
        "from diagrams.onprem.client import User\n",
        "from diagrams.onprem.compute import Server\n",
        "from diagrams.programming.language import Python\n",
        "from diagrams.custom import Custom\n",
        "\n",
        "\n",
        "\n",
        "with Diagram(\"Web Scraping Diagram\", show=True):\n",
        "\n",
        "    # Descripción de ÍCONOS PERSONALIZADOS\n",
        "    deepSeek_icon = \"deepSeek.png\"\n",
        "    openAI_icon = \"openAI.png\"\n",
        "    Internet_icon  = \"internet.png\"\n",
        "    bot_icon  = \"telegram.png\"\n",
        "\n",
        "    # Descripción de ÍCONOS DE LIBRERÍAS\n",
        "    telegram_bot = Custom(\"Bot\", bot_icon)\n",
        "    user = User(\"Usuario\")\n",
        "\n",
        "\n",
        "\n",
        "    with Cluster(\"Nube\"):\n",
        "        cloud1 = Custom(\"Cloud 1\", Internet_icon)\n",
        "        cloud2 = Custom(\"Cloud 2\", Internet_icon)\n",
        "        cloud3 = Custom(\"Cloud 3\", Internet_icon)\n",
        "\n",
        "    with Cluster(\"Google Colab\"):\n",
        "        python_script = Python(\"Python Web Scraper - NLP\")\n",
        "        python_API = Python(\"Python API Integration\")\n",
        "\n",
        "    with Cluster(\"Open AI\"):\n",
        "        gpt3 = Custom(\"GPT 3.5 turbo\", openAI_icon)\n",
        "\n",
        "\n",
        "    with Cluster(\"Hugging Face\"):\n",
        "        deepSeek= Custom(\"Deep Seek r1\", deepSeek_icon)\n",
        "\n",
        "\n",
        "    cloud1 >> Edge(label=\"HTML Data\")>> python_script\n",
        "    cloud2 >> Edge(label=\"HTML Data\")>> python_script\n",
        "    cloud3 >> Edge(label=\"HTML Data\")>> python_script\n",
        "\n",
        "    python_script >> Edge(label=\"Preprocessing data\")>> python_API\n",
        "    python_API >> Edge(label=\"Request\") >> gpt3\n",
        "    gpt3 >> Edge(label=\"Response\")>> python_API\n",
        "    python_API >> Edge(label=\"Request\") >> deepSeek\n",
        "    deepSeek >> Edge(label=\"Response\")>> python_API\n",
        "    python_API >> telegram_bot >> user"
      ],
      "metadata": {
        "id": "75DOWNkOLvAH"
      },
      "execution_count": null,
      "outputs": []
    }
  ]
}